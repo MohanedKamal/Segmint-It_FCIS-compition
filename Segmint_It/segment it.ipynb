{
 "cells": [
  {
   "cell_type": "markdown",
   "id": "a5d741fc",
   "metadata": {},
   "source": [
    "## Import Data"
   ]
  },
  {
   "cell_type": "code",
   "execution_count": 12,
   "id": "97d84cf9",
   "metadata": {},
   "outputs": [],
   "source": [
    "import numpy as np\n",
    "import pandas as pd\n",
    "import matplotlib.pyplot as plt\n",
    "import seaborn as sns\n",
    "from sklearn.preprocessing import LabelEncoder\n",
    "from sklearn.preprocessing import StandardScaler\n",
    "from sklearn.preprocessing import MinMaxScaler\n",
    "from sklearn import model_selection\n",
    "from sklearn.ensemble import BaggingClassifier\n",
    "from sklearn.tree import DecisionTreeClassifier\n",
    "import pandas as pd\n",
    "from sklearn.model_selection import train_test_split\n",
    "from sklearn.tree import DecisionTreeClassifier\n",
    "from sklearn.model_selection import cross_val_score\n",
    "from sklearn import svm\n",
    "from catboost import CatBoostClassifier\n",
    "from sklearn.decomposition import PCA\n",
    "from sklearn.ensemble import RandomForestClassifier\n",
    "from mlxtend.classifier import StackingClassifier\n",
    "from sklearn.neighbors import KNeighborsClassifier\n",
    "from sklearn.linear_model import LogisticRegression\n",
    "import xgboost \n",
    "from sklearn.metrics import mean_squared_error\n",
    "from sklearn.linear_model import LogisticRegression\n",
    "from sklearn.tree import DecisionTreeClassifier\n",
    "from sklearn.naive_bayes import GaussianNB\n",
    "from sklearn.model_selection import GridSearchCV\n",
    "import matplotlib.pyplot as plt\n",
    "from mlxtend.plotting import plot_decision_regions\n",
    "import matplotlib.gridspec as gridspec\n",
    "from sklearn.metrics import confusion_matrix,ConfusionMatrixDisplay\n",
    "#from sklearn.metrics import plot_confusion_matrix\n",
    "from mlxtend.plotting import plot_confusion_matrix\n",
    "\n",
    "%matplotlib inline  "
   ]
  },
  {
   "cell_type": "markdown",
   "id": "cee81da9",
   "metadata": {},
   "source": [
    "## Read Data"
   ]
  },
  {
   "cell_type": "code",
   "execution_count": 13,
   "id": "80903d99",
   "metadata": {},
   "outputs": [],
   "source": [
    "df = pd.read_csv(\"train2.csv\")\n",
    "test = pd.read_csv(\"test1.csv\")"
   ]
  },
  {
   "cell_type": "markdown",
   "id": "b479bda8",
   "metadata": {},
   "source": [
    "## Preprocessing"
   ]
  },
  {
   "cell_type": "code",
   "execution_count": 14,
   "id": "7ee89c38",
   "metadata": {},
   "outputs": [],
   "source": [
    "#drop id from test data\n",
    "id=test['ID']\n",
    "test=test.drop(['ID'],axis=1)\n",
    "df=df.drop(['ID'],axis=1)"
   ]
  },
  {
   "cell_type": "code",
   "execution_count": 15,
   "id": "0a548c14",
   "metadata": {},
   "outputs": [
    {
     "data": {
      "text/plain": [
       "Gender               0\n",
       "Ever_Married       121\n",
       "Age                  0\n",
       "Graduated           69\n",
       "Profession         105\n",
       "Work_Experience    725\n",
       "Spending_Score       0\n",
       "Family_Size        301\n",
       "Var_1               64\n",
       "Segmentation         0\n",
       "dtype: int64"
      ]
     },
     "execution_count": 15,
     "metadata": {},
     "output_type": "execute_result"
    }
   ],
   "source": [
    "#check for nulls \n",
    "df.isnull().sum()"
   ]
  },
  {
   "cell_type": "code",
   "execution_count": 16,
   "id": "3cdb25bf",
   "metadata": {},
   "outputs": [],
   "source": [
    "#replace null values\n",
    "df[\"Ever_Married\"].fillna(\"No\",inplace=True)\n",
    "df[\"Graduated\"].fillna(\"No\", inplace=True)\n",
    "df['Profession'].fillna(df['Profession'].mode(), inplace=True)\n",
    "df[\"Family_Size\"].fillna(df[\"Family_Size\"].mean(), inplace=True)\n",
    "df['Var_1'].fillna(df['Var_1'].mode(), inplace=True)\n",
    "df[\"Work_Experience\"].fillna(np.round(df[\"Work_Experience\"].mean()),inplace=True)"
   ]
  },
  {
   "cell_type": "code",
   "execution_count": 17,
   "id": "341c40b6",
   "metadata": {},
   "outputs": [],
   "source": [
    "test[\"Ever_Married\"].fillna(\"No\",inplace=True)\n",
    "test[\"Graduated\"].fillna(\"No\", inplace=True)\n",
    "test['Profession'].fillna(df['Profession'].mode(), inplace=True)\n",
    "test[\"Family_Size\"].fillna(df[\"Family_Size\"].mean(), inplace=True)\n",
    "test['Var_1'].fillna(df['Var_1'].mode(), inplace=True)\n",
    "test[\"Work_Experience\"].fillna(np.round(test[\"Work_Experience\"].mean()),inplace=True)\n"
   ]
  },
  {
   "cell_type": "markdown",
   "id": "51f5529d",
   "metadata": {},
   "source": [
    "## Label Encoder"
   ]
  },
  {
   "cell_type": "code",
   "execution_count": 18,
   "id": "4b9c2c02",
   "metadata": {},
   "outputs": [],
   "source": [
    "labelencoder=LabelEncoder()\n",
    "df['Spending_Score'] = labelencoder.fit_transform(df['Spending_Score'])\n",
    "df['Profession']=labelencoder.fit_transform(df['Profession'])\n",
    "df['Var_1']=labelencoder.fit_transform(df['Var_1'])\n",
    "df['Segmentation']=labelencoder.fit_transform(df['Segmentation'])\n",
    "df['Gender'] = labelencoder.fit_transform(df['Gender'])\n",
    "df['Ever_Married'] = labelencoder.fit_transform(df['Ever_Married'])\n",
    "df['Graduated'] = labelencoder.fit_transform(df['Graduated'])"
   ]
  },
  {
   "cell_type": "code",
   "execution_count": 19,
   "id": "c018531e",
   "metadata": {},
   "outputs": [],
   "source": [
    "test['Spending_Score'] = labelencoder.fit_transform(test['Spending_Score'])\n",
    "test['Profession']=labelencoder.fit_transform(test['Profession'])\n",
    "test['Var_1']=labelencoder.fit_transform(test['Var_1'])\n",
    "test['Gender'] = labelencoder.fit_transform(test['Gender'])\n",
    "test['Ever_Married'] = labelencoder.fit_transform(test['Ever_Married'])\n",
    "test['Graduated'] = labelencoder.fit_transform(test['Graduated'])\n"
   ]
  },
  {
   "cell_type": "code",
   "execution_count": 20,
   "id": "95e576bb",
   "metadata": {},
   "outputs": [
    {
     "data": {
      "text/html": [
       "<div>\n",
       "<style scoped>\n",
       "    .dataframe tbody tr th:only-of-type {\n",
       "        vertical-align: middle;\n",
       "    }\n",
       "\n",
       "    .dataframe tbody tr th {\n",
       "        vertical-align: top;\n",
       "    }\n",
       "\n",
       "    .dataframe thead th {\n",
       "        text-align: right;\n",
       "    }\n",
       "</style>\n",
       "<table border=\"1\" class=\"dataframe\">\n",
       "  <thead>\n",
       "    <tr style=\"text-align: right;\">\n",
       "      <th></th>\n",
       "      <th>Gender</th>\n",
       "      <th>Ever_Married</th>\n",
       "      <th>Age</th>\n",
       "      <th>Graduated</th>\n",
       "      <th>Profession</th>\n",
       "      <th>Work_Experience</th>\n",
       "      <th>Spending_Score</th>\n",
       "      <th>Family_Size</th>\n",
       "      <th>Var_1</th>\n",
       "      <th>Segmentation</th>\n",
       "    </tr>\n",
       "  </thead>\n",
       "  <tbody>\n",
       "    <tr>\n",
       "      <th>0</th>\n",
       "      <td>1</td>\n",
       "      <td>1</td>\n",
       "      <td>33</td>\n",
       "      <td>0</td>\n",
       "      <td>2</td>\n",
       "      <td>0.0</td>\n",
       "      <td>0</td>\n",
       "      <td>2.0</td>\n",
       "      <td>5</td>\n",
       "      <td>1</td>\n",
       "    </tr>\n",
       "    <tr>\n",
       "      <th>1</th>\n",
       "      <td>0</td>\n",
       "      <td>0</td>\n",
       "      <td>42</td>\n",
       "      <td>1</td>\n",
       "      <td>1</td>\n",
       "      <td>5.0</td>\n",
       "      <td>2</td>\n",
       "      <td>1.0</td>\n",
       "      <td>5</td>\n",
       "      <td>1</td>\n",
       "    </tr>\n",
       "    <tr>\n",
       "      <th>2</th>\n",
       "      <td>1</td>\n",
       "      <td>1</td>\n",
       "      <td>80</td>\n",
       "      <td>0</td>\n",
       "      <td>4</td>\n",
       "      <td>0.0</td>\n",
       "      <td>1</td>\n",
       "      <td>2.0</td>\n",
       "      <td>5</td>\n",
       "      <td>0</td>\n",
       "    </tr>\n",
       "    <tr>\n",
       "      <th>3</th>\n",
       "      <td>0</td>\n",
       "      <td>1</td>\n",
       "      <td>66</td>\n",
       "      <td>1</td>\n",
       "      <td>0</td>\n",
       "      <td>0.0</td>\n",
       "      <td>0</td>\n",
       "      <td>3.0</td>\n",
       "      <td>5</td>\n",
       "      <td>2</td>\n",
       "    </tr>\n",
       "    <tr>\n",
       "      <th>4</th>\n",
       "      <td>0</td>\n",
       "      <td>1</td>\n",
       "      <td>39</td>\n",
       "      <td>1</td>\n",
       "      <td>5</td>\n",
       "      <td>8.0</td>\n",
       "      <td>1</td>\n",
       "      <td>2.0</td>\n",
       "      <td>0</td>\n",
       "      <td>3</td>\n",
       "    </tr>\n",
       "    <tr>\n",
       "      <th>...</th>\n",
       "      <td>...</td>\n",
       "      <td>...</td>\n",
       "      <td>...</td>\n",
       "      <td>...</td>\n",
       "      <td>...</td>\n",
       "      <td>...</td>\n",
       "      <td>...</td>\n",
       "      <td>...</td>\n",
       "      <td>...</td>\n",
       "      <td>...</td>\n",
       "    </tr>\n",
       "    <tr>\n",
       "      <th>7160</th>\n",
       "      <td>1</td>\n",
       "      <td>1</td>\n",
       "      <td>42</td>\n",
       "      <td>1</td>\n",
       "      <td>0</td>\n",
       "      <td>0.0</td>\n",
       "      <td>0</td>\n",
       "      <td>5.0</td>\n",
       "      <td>5</td>\n",
       "      <td>2</td>\n",
       "    </tr>\n",
       "    <tr>\n",
       "      <th>7161</th>\n",
       "      <td>1</td>\n",
       "      <td>1</td>\n",
       "      <td>48</td>\n",
       "      <td>1</td>\n",
       "      <td>0</td>\n",
       "      <td>0.0</td>\n",
       "      <td>0</td>\n",
       "      <td>2.0</td>\n",
       "      <td>5</td>\n",
       "      <td>2</td>\n",
       "    </tr>\n",
       "    <tr>\n",
       "      <th>7162</th>\n",
       "      <td>0</td>\n",
       "      <td>1</td>\n",
       "      <td>51</td>\n",
       "      <td>1</td>\n",
       "      <td>0</td>\n",
       "      <td>8.0</td>\n",
       "      <td>0</td>\n",
       "      <td>2.0</td>\n",
       "      <td>5</td>\n",
       "      <td>2</td>\n",
       "    </tr>\n",
       "    <tr>\n",
       "      <th>7163</th>\n",
       "      <td>0</td>\n",
       "      <td>1</td>\n",
       "      <td>25</td>\n",
       "      <td>0</td>\n",
       "      <td>2</td>\n",
       "      <td>2.0</td>\n",
       "      <td>2</td>\n",
       "      <td>2.0</td>\n",
       "      <td>5</td>\n",
       "      <td>0</td>\n",
       "    </tr>\n",
       "    <tr>\n",
       "      <th>7164</th>\n",
       "      <td>1</td>\n",
       "      <td>1</td>\n",
       "      <td>28</td>\n",
       "      <td>0</td>\n",
       "      <td>4</td>\n",
       "      <td>0.0</td>\n",
       "      <td>0</td>\n",
       "      <td>3.0</td>\n",
       "      <td>5</td>\n",
       "      <td>3</td>\n",
       "    </tr>\n",
       "  </tbody>\n",
       "</table>\n",
       "<p>7165 rows × 10 columns</p>\n",
       "</div>"
      ],
      "text/plain": [
       "      Gender  Ever_Married  Age  Graduated  Profession  Work_Experience  \\\n",
       "0          1             1   33          0           2              0.0   \n",
       "1          0             0   42          1           1              5.0   \n",
       "2          1             1   80          0           4              0.0   \n",
       "3          0             1   66          1           0              0.0   \n",
       "4          0             1   39          1           5              8.0   \n",
       "...      ...           ...  ...        ...         ...              ...   \n",
       "7160       1             1   42          1           0              0.0   \n",
       "7161       1             1   48          1           0              0.0   \n",
       "7162       0             1   51          1           0              8.0   \n",
       "7163       0             1   25          0           2              2.0   \n",
       "7164       1             1   28          0           4              0.0   \n",
       "\n",
       "      Spending_Score  Family_Size  Var_1  Segmentation  \n",
       "0                  0          2.0      5             1  \n",
       "1                  2          1.0      5             1  \n",
       "2                  1          2.0      5             0  \n",
       "3                  0          3.0      5             2  \n",
       "4                  1          2.0      0             3  \n",
       "...              ...          ...    ...           ...  \n",
       "7160               0          5.0      5             2  \n",
       "7161               0          2.0      5             2  \n",
       "7162               0          2.0      5             2  \n",
       "7163               2          2.0      5             0  \n",
       "7164               0          3.0      5             3  \n",
       "\n",
       "[7165 rows x 10 columns]"
      ]
     },
     "execution_count": 20,
     "metadata": {},
     "output_type": "execute_result"
    }
   ],
   "source": [
    "df"
   ]
  },
  {
   "cell_type": "markdown",
   "id": "b0fb64f3",
   "metadata": {},
   "source": [
    "## Polynomial Features"
   ]
  },
  {
   "cell_type": "code",
   "execution_count": 21,
   "id": "33c4a004",
   "metadata": {},
   "outputs": [
    {
     "name": "stderr",
     "output_type": "stream",
     "text": [
      "C:\\Users\\oem\\anaconda3\\lib\\site-packages\\seaborn\\distributions.py:2557: FutureWarning: `distplot` is a deprecated function and will be removed in a future version. Please adapt your code to use either `displot` (a figure-level function with similar flexibility) or `histplot` (an axes-level function for histograms).\n",
      "  warnings.warn(msg, FutureWarning)\n",
      "C:\\Users\\oem\\anaconda3\\lib\\site-packages\\seaborn\\distributions.py:2557: FutureWarning: `distplot` is a deprecated function and will be removed in a future version. Please adapt your code to use either `displot` (a figure-level function with similar flexibility) or `histplot` (an axes-level function for histograms).\n",
      "  warnings.warn(msg, FutureWarning)\n",
      "C:\\Users\\oem\\anaconda3\\lib\\site-packages\\seaborn\\distributions.py:2557: FutureWarning: `distplot` is a deprecated function and will be removed in a future version. Please adapt your code to use either `displot` (a figure-level function with similar flexibility) or `histplot` (an axes-level function for histograms).\n",
      "  warnings.warn(msg, FutureWarning)\n",
      "C:\\Users\\oem\\anaconda3\\lib\\site-packages\\seaborn\\distributions.py:2557: FutureWarning: `distplot` is a deprecated function and will be removed in a future version. Please adapt your code to use either `displot` (a figure-level function with similar flexibility) or `histplot` (an axes-level function for histograms).\n",
      "  warnings.warn(msg, FutureWarning)\n",
      "C:\\Users\\oem\\anaconda3\\lib\\site-packages\\seaborn\\distributions.py:2557: FutureWarning: `distplot` is a deprecated function and will be removed in a future version. Please adapt your code to use either `displot` (a figure-level function with similar flexibility) or `histplot` (an axes-level function for histograms).\n",
      "  warnings.warn(msg, FutureWarning)\n",
      "C:\\Users\\oem\\anaconda3\\lib\\site-packages\\seaborn\\distributions.py:2557: FutureWarning: `distplot` is a deprecated function and will be removed in a future version. Please adapt your code to use either `displot` (a figure-level function with similar flexibility) or `histplot` (an axes-level function for histograms).\n",
      "  warnings.warn(msg, FutureWarning)\n",
      "C:\\Users\\oem\\anaconda3\\lib\\site-packages\\seaborn\\distributions.py:2557: FutureWarning: `distplot` is a deprecated function and will be removed in a future version. Please adapt your code to use either `displot` (a figure-level function with similar flexibility) or `histplot` (an axes-level function for histograms).\n",
      "  warnings.warn(msg, FutureWarning)\n",
      "C:\\Users\\oem\\anaconda3\\lib\\site-packages\\seaborn\\distributions.py:2557: FutureWarning: `distplot` is a deprecated function and will be removed in a future version. Please adapt your code to use either `displot` (a figure-level function with similar flexibility) or `histplot` (an axes-level function for histograms).\n",
      "  warnings.warn(msg, FutureWarning)\n",
      "C:\\Users\\oem\\anaconda3\\lib\\site-packages\\seaborn\\distributions.py:2557: FutureWarning: `distplot` is a deprecated function and will be removed in a future version. Please adapt your code to use either `displot` (a figure-level function with similar flexibility) or `histplot` (an axes-level function for histograms).\n",
      "  warnings.warn(msg, FutureWarning)\n",
      "C:\\Users\\oem\\anaconda3\\lib\\site-packages\\seaborn\\distributions.py:2557: FutureWarning: `distplot` is a deprecated function and will be removed in a future version. Please adapt your code to use either `displot` (a figure-level function with similar flexibility) or `histplot` (an axes-level function for histograms).\n",
      "  warnings.warn(msg, FutureWarning)\n"
     ]
    },
    {
     "data": {
      "image/png": "[encoded data removed]",
      "text/plain": [
       "<Figure size 720x432 with 1 Axes>"
      ]
     },
     "metadata": {
      "needs_background": "light"
     },
     "output_type": "display_data"
    },
    {
     "data": {
      "image/png": "[encoded data removed]",
      "text/plain": [
       "<Figure size 720x432 with 1 Axes>"
      ]
     },
     "metadata": {
      "needs_background": "light"
     },
     "output_type": "display_data"
    },
    {
     "data": {
      "image/png": "[encoded data removed]",
      "text/plain": [
       "<Figure size 720x432 with 1 Axes>"
      ]
     },
     "metadata": {
      "needs_background": "light"
     },
     "output_type": "display_data"
    },
    {
     "data": {
      "image/png": "[encoded data removed]",
      "text/plain": [
       "<Figure size 720x432 with 1 Axes>"
      ]
     },
     "metadata": {
      "needs_background": "light"
     },
     "output_type": "display_data"
    },
    {
     "data": {
      "image/png": "[encoded data removed]",
      "text/plain": [
       "<Figure size 720x432 with 1 Axes>"
      ]
     },
     "metadata": {
      "needs_background": "light"
     },
     "output_type": "display_data"
    },
    {
     "data": {
      "image/png": "[encoded data removed]",
      "text/plain": [
       "<Figure size 720x432 with 1 Axes>"
      ]
     },
     "metadata": {
      "needs_background": "light"
     },
     "output_type": "display_data"
    },
    {
     "data": {
      "image/png": "[encoded data removed]",
      "text/plain": [
       "<Figure size 720x432 with 1 Axes>"
      ]
     },
     "metadata": {
      "needs_background": "light"
     },
     "output_type": "display_data"
    },
    {
     "data": {
      "image/png": "[encoded data removed]",
      "text/plain": [
       "<Figure size 720x432 with 1 Axes>"
      ]
     },
     "metadata": {
      "needs_background": "light"
     },
     "output_type": "display_data"
    },
    {
     "data": {
      "image/png": "[encoded data removed]",
      "text/plain": [
       "<Figure size 720x432 with 1 Axes>"
      ]
     },
     "metadata": {
      "needs_background": "light"
     },
     "output_type": "display_data"
    },
    {
     "data": {
      "image/png": "[encoded data removed]",
      "text/plain": [
       "<Figure size 720x432 with 1 Axes>"
      ]
     },
     "metadata": {
      "needs_background": "light"
     },
     "output_type": "display_data"
    }
   ],
   "source": [
    "for col in df:\n",
    "    plt.figure(figsize=(10,6))\n",
    "    sns.distplot(x=df[col])\n",
    "    plt.xlabel(col)\n",
    "plt.show()"
   ]
  },
  {
   "cell_type": "markdown",
   "id": "3c2b4425",
   "metadata": {},
   "source": [
    "## Standard Scalar"
   ]
  },
  {
   "cell_type": "code",
   "execution_count": 22,
   "id": "c95614ac",
   "metadata": {},
   "outputs": [],
   "source": [
    "\n",
    "nor=['Age']\n",
    "df_norm = df.copy()\n",
    "for i in nor :\n",
    "    df_norm[i] = StandardScaler().fit_transform(np.array(df_norm[i]).reshape(-1,1))\n",
    "    test[i]=StandardScaler().fit_transform(np.array(test[i]).reshape(-1,1))\n",
    "df=df_norm.copy()\n",
    "\n"
   ]
  },
  {
   "cell_type": "markdown",
   "id": "a35d7242",
   "metadata": {},
   "source": [
    "## MinMaxScalar"
   ]
  },
  {
   "cell_type": "code",
   "execution_count": 23,
   "id": "b23d7a68",
   "metadata": {},
   "outputs": [],
   "source": [
    "categorical_features = [ 'Profession', 'Work_Experience','Spending_Score', 'Var_1','Family_Size']\n",
    "\n",
    "df_norm = df.copy()\n",
    "for i in categorical_features :\n",
    "    df_norm[i] = MinMaxScaler().fit_transform(np.array(df_norm[i]).reshape(-1,1))\n",
    "    test[i]= MinMaxScaler().fit_transform(np.array(test[i]).reshape(-1,1))\n",
    "df=df_norm.copy()\n"
   ]
  },
  {
   "cell_type": "code",
   "execution_count": 24,
   "id": "837710bd",
   "metadata": {},
   "outputs": [],
   "source": [
    "target = df['Segmentation']\n",
    "x=df.drop(['Segmentation'],axis=1)"
   ]
  },
  {
   "cell_type": "markdown",
   "id": "86cc3782",
   "metadata": {},
   "source": [
    "## Heat Map"
   ]
  },
  {
   "cell_type": "code",
   "execution_count": 25,
   "id": "b093e5e3",
   "metadata": {},
   "outputs": [
    {
     "data": {
      "image/png": "[encoded data removed]",
      "text/plain": [
       "<Figure size 1440x576 with 2 Axes>"
      ]
     },
     "metadata": {
      "needs_background": "light"
     },
     "output_type": "display_data"
    }
   ],
   "source": [
    "plt.figure(figsize=(20,8))\n",
    "dataplot = sns.heatmap(df.corr(), cmap=\"coolwarm\", annot=True)"
   ]
  },
  {
   "cell_type": "code",
   "execution_count": 26,
   "id": "4ca4884b",
   "metadata": {},
   "outputs": [
    {
     "data": {
      "text/plain": [
       "'\\nfrom sklearn.preprocessing import PolynomialFeatures\\n# define the dataset\\ndata = asarray(x)\\n# perform a polynomial features transform of the dataset\\ntrans = PolynomialFeatures(degree=2)\\ndata = trans.fit_transform(data)\\ntarget.shape\\n'"
      ]
     },
     "execution_count": 26,
     "metadata": {},
     "output_type": "execute_result"
    }
   ],
   "source": [
    "from numpy import asarray\n",
    "'''\n",
    "from sklearn.preprocessing import PolynomialFeatures\n",
    "# define the dataset\n",
    "data = asarray(x)\n",
    "# perform a polynomial features transform of the dataset\n",
    "trans = PolynomialFeatures(degree=2)\n",
    "data = trans.fit_transform(data)\n",
    "target.shape\n",
    "'''"
   ]
  },
  {
   "cell_type": "code",
   "execution_count": 27,
   "id": "9fae1c97",
   "metadata": {},
   "outputs": [
    {
     "data": {
      "text/plain": [
       "'\\ndata2 = asarray(test)\\n# perform a polynomial features transform of the dataset\\ntrans = PolynomialFeatures(degree=2)\\ndata2 = trans.fit_transform(data2)\\nprint(data2)\\n'"
      ]
     },
     "execution_count": 27,
     "metadata": {},
     "output_type": "execute_result"
    }
   ],
   "source": [
    "'''\n",
    "data2 = asarray(test)\n",
    "# perform a polynomial features transform of the dataset\n",
    "trans = PolynomialFeatures(degree=2)\n",
    "data2 = trans.fit_transform(data2)\n",
    "print(data2)\n",
    "'''"
   ]
  },
  {
   "cell_type": "code",
   "execution_count": 28,
   "id": "a3e8ae4a",
   "metadata": {},
   "outputs": [
    {
     "data": {
      "text/plain": [
       "\"\\npca = PCA(0.9)\\npca.fit(x)\\nPCA(copy=True, iterated_power='auto', n_components=0.9, random_state=None,\\n  svd_solver='auto', tol=0.0, whiten=False)\\npca.n_components_\\n\""
      ]
     },
     "execution_count": 28,
     "metadata": {},
     "output_type": "execute_result"
    }
   ],
   "source": [
    "'''\n",
    "pca = PCA(0.9)\n",
    "pca.fit(x)\n",
    "PCA(copy=True, iterated_power='auto', n_components=0.9, random_state=None,\n",
    "  svd_solver='auto', tol=0.0, whiten=False)\n",
    "pca.n_components_\n",
    "'''"
   ]
  },
  {
   "cell_type": "markdown",
   "id": "ed9f34a7",
   "metadata": {},
   "source": [
    "## Split Dataset to train and test"
   ]
  },
  {
   "cell_type": "code",
   "execution_count": 29,
   "id": "230fc366",
   "metadata": {},
   "outputs": [],
   "source": [
    "X_train, X_test, y_train, y_test = train_test_split(x, target, test_size=0.20, random_state=0, stratify=target)"
   ]
  },
  {
   "cell_type": "markdown",
   "id": "b6b4c455",
   "metadata": {},
   "source": [
    "## Cross Validation sit"
   ]
  },
  {
   "cell_type": "code",
   "execution_count": 15,
   "id": "a5760694",
   "metadata": {},
   "outputs": [
    {
     "data": {
      "text/plain": [
       "array([0.42720139, 0.47428073, 0.44415358, 0.47469459, 0.46335079])"
      ]
     },
     "execution_count": 15,
     "metadata": {},
     "output_type": "execute_result"
    }
   ],
   "source": [
    "scores = cross_val_score(svm.SVC(), X_train, y_train, cv=5)\n",
    "scores"
   ]
  },
  {
   "cell_type": "markdown",
   "id": "1bb73e1b",
   "metadata": {},
   "source": [
    "## Bagging"
   ]
  },
  {
   "cell_type": "code",
   "execution_count": 35,
   "id": "465e40a6",
   "metadata": {},
   "outputs": [],
   "source": [
    "bag_model = BaggingClassifier(\n",
    "base_estimator=svm.SVC(), \n",
    "n_estimators=50, \n",
    "max_samples=0.8, \n",
    ")"
   ]
  },
  {
   "cell_type": "code",
   "execution_count": 36,
   "id": "37e49a45",
   "metadata": {},
   "outputs": [
    {
     "name": "stdout",
     "output_type": "stream",
     "text": [
      "52.98325191905094\n",
      "48.56943475226797\n"
     ]
    }
   ],
   "source": [
    "bag_model.fit(X_train, y_train)\n",
    "print(bag_model.score(X_train, y_train)*100)\n",
    "print(bag_model.score(X_test, y_test)*100)"
   ]
  },
  {
   "cell_type": "code",
   "execution_count": 43,
   "id": "5ea63ea7",
   "metadata": {},
   "outputs": [
    {
     "name": "stdout",
     "output_type": "stream",
     "text": [
      "1.7643056524773204\n",
      "1.8080949057920446\n"
     ]
    }
   ],
   "source": [
    "y_pred_train=bag_model.predict(X_train)\n",
    "y_pred_test=bag_model.predict(X_test)\n",
    "rms = mean_squared_error(y_pred_train, y_train)\n",
    "rms1 = mean_squared_error(y_pred_test, y_test)\n",
    "print(rms)\n",
    "print(rms1)"
   ]
  },
  {
   "cell_type": "code",
   "execution_count": 23,
   "id": "3bb03da7",
   "metadata": {},
   "outputs": [
    {
     "data": {
      "text/plain": [
       "array([[178,  70,  47,  82],\n",
       "       [ 96,  83,  89,  55],\n",
       "       [ 50,  64, 160,  53],\n",
       "       [ 86,  32,  19, 269]], dtype=int64)"
      ]
     },
     "execution_count": 23,
     "metadata": {},
     "output_type": "execute_result"
    }
   ],
   "source": [
    "y_pred = bag_model.predict(X_test)\n",
    "cm1 = confusion_matrix(y_test, y_pred)\n",
    "cm1"
   ]
  },
  {
   "cell_type": "code",
   "execution_count": 24,
   "id": "34f04573",
   "metadata": {},
   "outputs": [
    {
     "data": {
      "image/png": "[encoded data removed]",
      "text/plain": [
       "<Figure size 432x288 with 2 Axes>"
      ]
     },
     "metadata": {
      "needs_background": "light"
     },
     "output_type": "display_data"
    }
   ],
   "source": [
    "class_names = ['A','B','C','D']\n",
    "\n",
    "fig, ax = plot_confusion_matrix(conf_mat=cm1,colorbar=True,class_names=class_names)\n",
    "\n",
    "plt.title('Confusion Matrix')\n",
    "plt.xlabel('Predicted Values')\n",
    "plt.ylabel('Actual Values')\n",
    "plt.show()"
   ]
  },
  {
   "cell_type": "code",
   "execution_count": 25,
   "id": "08fb75c7",
   "metadata": {},
   "outputs": [
    {
     "data": {
      "text/html": [
       "<div>\n",
       "<style scoped>\n",
       "    .dataframe tbody tr th:only-of-type {\n",
       "        vertical-align: middle;\n",
       "    }\n",
       "\n",
       "    .dataframe tbody tr th {\n",
       "        vertical-align: top;\n",
       "    }\n",
       "\n",
       "    .dataframe thead th {\n",
       "        text-align: right;\n",
       "    }\n",
       "</style>\n",
       "<table border=\"1\" class=\"dataframe\">\n",
       "  <thead>\n",
       "    <tr style=\"text-align: right;\">\n",
       "      <th></th>\n",
       "      <th>ID</th>\n",
       "      <th>Segmentation</th>\n",
       "    </tr>\n",
       "  </thead>\n",
       "  <tbody>\n",
       "    <tr>\n",
       "      <th>0</th>\n",
       "      <td>755</td>\n",
       "      <td>A</td>\n",
       "    </tr>\n",
       "    <tr>\n",
       "      <th>1</th>\n",
       "      <td>4670</td>\n",
       "      <td>D</td>\n",
       "    </tr>\n",
       "    <tr>\n",
       "      <th>2</th>\n",
       "      <td>287</td>\n",
       "      <td>A</td>\n",
       "    </tr>\n",
       "    <tr>\n",
       "      <th>3</th>\n",
       "      <td>1142</td>\n",
       "      <td>D</td>\n",
       "    </tr>\n",
       "    <tr>\n",
       "      <th>4</th>\n",
       "      <td>6583</td>\n",
       "      <td>D</td>\n",
       "    </tr>\n",
       "  </tbody>\n",
       "</table>\n",
       "</div>"
      ],
      "text/plain": [
       "     ID Segmentation\n",
       "0   755            A\n",
       "1  4670            D\n",
       "2   287            A\n",
       "3  1142            D\n",
       "4  6583            D"
      ]
     },
     "execution_count": 25,
     "metadata": {},
     "output_type": "execute_result"
    }
   ],
   "source": [
    "submission = pd.DataFrame(bag_model.predict(test))\n",
    "submission.columns = ['Segmentation']\n",
    "submission['ID'] = id\n",
    "submission = submission[['ID', 'Segmentation']]\n",
    "submission['Segmentation'] = submission['Segmentation'].map({0:'A', 1:'B', 2:'C', 3:'D'})\n",
    "submission.head()"
   ]
  },
  {
   "cell_type": "code",
   "execution_count": 26,
   "id": "265a189d",
   "metadata": {},
   "outputs": [
    {
     "data": {
      "text/plain": [
       "D    1125\n",
       "A    1047\n",
       "C     809\n",
       "B     549\n",
       "Name: Segmentation, dtype: int64"
      ]
     },
     "execution_count": 26,
     "metadata": {},
     "output_type": "execute_result"
    }
   ],
   "source": [
    "submission['Segmentation'].value_counts()"
   ]
  },
  {
   "cell_type": "code",
   "execution_count": 27,
   "id": "1099ce92",
   "metadata": {},
   "outputs": [],
   "source": [
    "submission.to_csv(\"segmentation2.csv\",index=False)"
   ]
  },
  {
   "cell_type": "markdown",
   "id": "22484430",
   "metadata": {},
   "source": [
    "## PCA"
   ]
  },
  {
   "cell_type": "code",
   "execution_count": 28,
   "id": "2e8390be",
   "metadata": {},
   "outputs": [],
   "source": [
    "pca = PCA(0.9)"
   ]
  },
  {
   "cell_type": "code",
   "execution_count": 29,
   "id": "d6218e9c",
   "metadata": {},
   "outputs": [
    {
     "data": {
      "text/plain": [
       "PCA(n_components=0.9)"
      ]
     },
     "execution_count": 29,
     "metadata": {},
     "output_type": "execute_result"
    }
   ],
   "source": [
    "pca.fit(x)"
   ]
  },
  {
   "cell_type": "code",
   "execution_count": 30,
   "id": "799b649f",
   "metadata": {},
   "outputs": [
    {
     "data": {
      "text/plain": [
       "PCA(n_components=0.9)"
      ]
     },
     "execution_count": 30,
     "metadata": {},
     "output_type": "execute_result"
    }
   ],
   "source": [
    "PCA(copy=True, iterated_power='auto', n_components=0.9, random_state=None,\n",
    "  svd_solver='auto', tol=0.0, whiten=False)"
   ]
  },
  {
   "cell_type": "code",
   "execution_count": 31,
   "id": "bd6a4834",
   "metadata": {},
   "outputs": [
    {
     "data": {
      "text/plain": [
       "5"
      ]
     },
     "execution_count": 31,
     "metadata": {},
     "output_type": "execute_result"
    }
   ],
   "source": [
    "pca.n_components_"
   ]
  },
  {
   "cell_type": "code",
   "execution_count": 32,
   "id": "21d9796f",
   "metadata": {},
   "outputs": [],
   "source": [
    "'''\n",
    "pca = PCA(n_components = 5)\n",
    "pca.fit(x)\n",
    "x_pca = pca.transform(x)\n",
    "train1=pd.DataFrame(x_pca)\n",
    "'''"
   ]
  },
  {
   "cell_type": "code",
   "execution_count": 33,
   "id": "9733d542",
   "metadata": {},
   "outputs": [],
   "source": [
    "'''\n",
    "pca2 = PCA(n_components = 5)\n",
    "pca2.fit(test)\n",
    "x_pca2 = pca2.transform(test)\n",
    "  \n",
    "x_pca2.shape\n",
    "test1=pd.DataFrame(x_pca2)\n",
    "'''"
   ]
  },
  {
   "cell_type": "markdown",
   "id": "bcf29c2d",
   "metadata": {},
   "source": [
    "## CatBoost Classifier"
   ]
  },
  {
   "cell_type": "code",
   "execution_count": 30,
   "id": "13e2abac",
   "metadata": {},
   "outputs": [
    {
     "data": {
      "text/plain": [
       "73.63921842288904"
      ]
     },
     "execution_count": 30,
     "metadata": {},
     "output_type": "execute_result"
    }
   ],
   "source": [
    "model = CatBoostClassifier(iterations=1000,verbose=0)\n",
    "model.fit(X_train, y_train)\n",
    "model.score(X_train, y_train)*100"
   ]
  },
  {
   "cell_type": "code",
   "execution_count": 42,
   "id": "e2a8b4fa",
   "metadata": {},
   "outputs": [
    {
     "name": "stdout",
     "output_type": "stream",
     "text": [
      "73.63921842288904\n",
      "45.08025122121423\n"
     ]
    }
   ],
   "source": [
    "print(model.score(X_train, y_train)*100)\n",
    "print(model.score(X_test, y_test)*100)"
   ]
  },
  {
   "cell_type": "code",
   "execution_count": 44,
   "id": "a7f0d581",
   "metadata": {},
   "outputs": [
    {
     "name": "stdout",
     "output_type": "stream",
     "text": [
      "0.8965457083042568\n",
      "1.9623168178646198\n"
     ]
    }
   ],
   "source": [
    "y_pred_train=model.predict(X_train)\n",
    "y_pred_test=model.predict(X_test)\n",
    "rms = mean_squared_error(y_pred_train, y_train)\n",
    "rms1 = mean_squared_error(y_pred_test, y_test)\n",
    "print(rms)\n",
    "print(rms1)"
   ]
  },
  {
   "cell_type": "code",
   "execution_count": 21,
   "id": "51e6b2d2",
   "metadata": {},
   "outputs": [],
   "source": [
    "#model1 = CatBoostClassifier(iterations=1199)\n",
    "#model1.fit(x, target)\n",
    "#model1.score(x, target)*100"
   ]
  },
  {
   "cell_type": "code",
   "execution_count": 22,
   "id": "99a1d1e0",
   "metadata": {},
   "outputs": [],
   "source": [
    "#print(cross_val_score(model1, x, target, cv=3))# force scores to be positive"
   ]
  },
  {
   "cell_type": "code",
   "execution_count": 39,
   "id": "db02b6e8",
   "metadata": {},
   "outputs": [
    {
     "data": {
      "text/html": [
       "<div>\n",
       "<style scoped>\n",
       "    .dataframe tbody tr th:only-of-type {\n",
       "        vertical-align: middle;\n",
       "    }\n",
       "\n",
       "    .dataframe tbody tr th {\n",
       "        vertical-align: top;\n",
       "    }\n",
       "\n",
       "    .dataframe thead th {\n",
       "        text-align: right;\n",
       "    }\n",
       "</style>\n",
       "<table border=\"1\" class=\"dataframe\">\n",
       "  <thead>\n",
       "    <tr style=\"text-align: right;\">\n",
       "      <th></th>\n",
       "      <th>ID</th>\n",
       "      <th>Segmentation</th>\n",
       "    </tr>\n",
       "  </thead>\n",
       "  <tbody>\n",
       "    <tr>\n",
       "      <th>0</th>\n",
       "      <td>755</td>\n",
       "      <td>A</td>\n",
       "    </tr>\n",
       "    <tr>\n",
       "      <th>1</th>\n",
       "      <td>4670</td>\n",
       "      <td>D</td>\n",
       "    </tr>\n",
       "    <tr>\n",
       "      <th>2</th>\n",
       "      <td>287</td>\n",
       "      <td>A</td>\n",
       "    </tr>\n",
       "    <tr>\n",
       "      <th>3</th>\n",
       "      <td>1142</td>\n",
       "      <td>D</td>\n",
       "    </tr>\n",
       "    <tr>\n",
       "      <th>4</th>\n",
       "      <td>6583</td>\n",
       "      <td>A</td>\n",
       "    </tr>\n",
       "    <tr>\n",
       "      <th>5</th>\n",
       "      <td>2635</td>\n",
       "      <td>B</td>\n",
       "    </tr>\n",
       "    <tr>\n",
       "      <th>6</th>\n",
       "      <td>5182</td>\n",
       "      <td>A</td>\n",
       "    </tr>\n",
       "    <tr>\n",
       "      <th>7</th>\n",
       "      <td>2850</td>\n",
       "      <td>D</td>\n",
       "    </tr>\n",
       "    <tr>\n",
       "      <th>8</th>\n",
       "      <td>6723</td>\n",
       "      <td>C</td>\n",
       "    </tr>\n",
       "    <tr>\n",
       "      <th>9</th>\n",
       "      <td>8290</td>\n",
       "      <td>C</td>\n",
       "    </tr>\n",
       "  </tbody>\n",
       "</table>\n",
       "</div>"
      ],
      "text/plain": [
       "     ID Segmentation\n",
       "0   755            A\n",
       "1  4670            D\n",
       "2   287            A\n",
       "3  1142            D\n",
       "4  6583            A\n",
       "5  2635            B\n",
       "6  5182            A\n",
       "7  2850            D\n",
       "8  6723            C\n",
       "9  8290            C"
      ]
     },
     "execution_count": 39,
     "metadata": {},
     "output_type": "execute_result"
    }
   ],
   "source": [
    "submission = pd.DataFrame(model.predict(test1))\n",
    "submission.columns = ['Segmentation']\n",
    "submission['ID'] = id\n",
    "submission = submission[['ID', 'Segmentation']]\n",
    "submission['Segmentation'] = submission['Segmentation'].map({0:'A', 1:'B', 2:'C', 3:'D'})\n",
    "submission.head(10)"
   ]
  },
  {
   "cell_type": "code",
   "execution_count": 40,
   "id": "b899a74d",
   "metadata": {},
   "outputs": [
    {
     "data": {
      "text/plain": [
       "D    1284\n",
       "A     946\n",
       "C     876\n",
       "B     424\n",
       "Name: Segmentation, dtype: int64"
      ]
     },
     "execution_count": 40,
     "metadata": {},
     "output_type": "execute_result"
    }
   ],
   "source": [
    "submission['Segmentation'].value_counts()"
   ]
  },
  {
   "cell_type": "code",
   "execution_count": 41,
   "id": "82ff5d60",
   "metadata": {},
   "outputs": [],
   "source": [
    "submission.to_csv(\"segmentation2.csv\",index=False)"
   ]
  },
  {
   "cell_type": "markdown",
   "id": "f0c0a5bd",
   "metadata": {},
   "source": [
    "## Random Forest Classifier"
   ]
  },
  {
   "cell_type": "code",
   "execution_count": 24,
   "id": "839774eb",
   "metadata": {},
   "outputs": [
    {
     "data": {
      "text/plain": [
       "RandomForestClassifier()"
      ]
     },
     "execution_count": 24,
     "metadata": {},
     "output_type": "execute_result"
    }
   ],
   "source": [
    "clf2 = RandomForestClassifier()\n",
    "clf2.fit(x, target)"
   ]
  },
  {
   "cell_type": "code",
   "execution_count": 25,
   "id": "9d698e90",
   "metadata": {},
   "outputs": [
    {
     "name": "stdout",
     "output_type": "stream",
     "text": [
      "94.90579204466155\n",
      "95.25471039776691\n"
     ]
    }
   ],
   "source": [
    "print(clf2.score(X_train, y_train)*100)\n",
    "print(clf2.score(X_test, y_test)*100)"
   ]
  },
  {
   "cell_type": "code",
   "execution_count": 26,
   "id": "93325df1",
   "metadata": {},
   "outputs": [
    {
     "name": "stdout",
     "output_type": "stream",
     "text": [
      "0.1386950453593859\n",
      "0.13049546406140963\n"
     ]
    }
   ],
   "source": [
    "y_pred_train=clf2.predict(X_train)\n",
    "y_pred_test=clf2.predict(X_test)\n",
    "rms = mean_squared_error(y_pred_train, y_train)\n",
    "rms1 = mean_squared_error(y_pred_test, y_test)\n",
    "print(rms)\n",
    "print(rms1)"
   ]
  },
  {
   "cell_type": "code",
   "execution_count": 46,
   "id": "7c8f55a0",
   "metadata": {},
   "outputs": [
    {
     "data": {
      "text/plain": [
       "array([[359,  11,   4,   3],\n",
       "       [  6, 297,  15,   5],\n",
       "       [  7,   4, 312,   4],\n",
       "       [  3,   2,   7, 394]], dtype=int64)"
      ]
     },
     "execution_count": 46,
     "metadata": {},
     "output_type": "execute_result"
    }
   ],
   "source": [
    "y_pred = clf2.predict(X_test)\n",
    "cm3 = confusion_matrix(y_test, y_pred,labels=clf2.classes_)\n",
    "cm3"
   ]
  },
  {
   "cell_type": "code",
   "execution_count": 47,
   "id": "9f9638fc",
   "metadata": {},
   "outputs": [
    {
     "data": {
      "image/png": "[encoded data removed]",
      "text/plain": [
       "<Figure size 432x288 with 2 Axes>"
      ]
     },
     "metadata": {
      "needs_background": "light"
     },
     "output_type": "display_data"
    }
   ],
   "source": [
    "class_names = ['A','B','C','D']\n",
    "plot_confusion_matrix(conf_mat=cm3,colorbar=True,class_names=class_names)\n",
    "\n",
    "plt.title('Confusion Matrix')\n",
    "plt.xlabel('Predicted Values')\n",
    "plt.ylabel('Actual Values')\n",
    "plt.show()"
   ]
  },
  {
   "cell_type": "code",
   "execution_count": 48,
   "id": "f0335bf8",
   "metadata": {},
   "outputs": [
    {
     "data": {
      "text/html": [
       "<div>\n",
       "<style scoped>\n",
       "    .dataframe tbody tr th:only-of-type {\n",
       "        vertical-align: middle;\n",
       "    }\n",
       "\n",
       "    .dataframe tbody tr th {\n",
       "        vertical-align: top;\n",
       "    }\n",
       "\n",
       "    .dataframe thead th {\n",
       "        text-align: right;\n",
       "    }\n",
       "</style>\n",
       "<table border=\"1\" class=\"dataframe\">\n",
       "  <thead>\n",
       "    <tr style=\"text-align: right;\">\n",
       "      <th></th>\n",
       "      <th>ID</th>\n",
       "      <th>Segmentation</th>\n",
       "    </tr>\n",
       "  </thead>\n",
       "  <tbody>\n",
       "    <tr>\n",
       "      <th>0</th>\n",
       "      <td>755</td>\n",
       "      <td>B</td>\n",
       "    </tr>\n",
       "    <tr>\n",
       "      <th>1</th>\n",
       "      <td>4670</td>\n",
       "      <td>D</td>\n",
       "    </tr>\n",
       "    <tr>\n",
       "      <th>2</th>\n",
       "      <td>287</td>\n",
       "      <td>A</td>\n",
       "    </tr>\n",
       "    <tr>\n",
       "      <th>3</th>\n",
       "      <td>1142</td>\n",
       "      <td>A</td>\n",
       "    </tr>\n",
       "    <tr>\n",
       "      <th>4</th>\n",
       "      <td>6583</td>\n",
       "      <td>C</td>\n",
       "    </tr>\n",
       "    <tr>\n",
       "      <th>5</th>\n",
       "      <td>2635</td>\n",
       "      <td>A</td>\n",
       "    </tr>\n",
       "    <tr>\n",
       "      <th>6</th>\n",
       "      <td>5182</td>\n",
       "      <td>C</td>\n",
       "    </tr>\n",
       "    <tr>\n",
       "      <th>7</th>\n",
       "      <td>2850</td>\n",
       "      <td>D</td>\n",
       "    </tr>\n",
       "    <tr>\n",
       "      <th>8</th>\n",
       "      <td>6723</td>\n",
       "      <td>C</td>\n",
       "    </tr>\n",
       "    <tr>\n",
       "      <th>9</th>\n",
       "      <td>8290</td>\n",
       "      <td>B</td>\n",
       "    </tr>\n",
       "    <tr>\n",
       "      <th>10</th>\n",
       "      <td>505</td>\n",
       "      <td>A</td>\n",
       "    </tr>\n",
       "    <tr>\n",
       "      <th>11</th>\n",
       "      <td>8695</td>\n",
       "      <td>D</td>\n",
       "    </tr>\n",
       "    <tr>\n",
       "      <th>12</th>\n",
       "      <td>9841</td>\n",
       "      <td>B</td>\n",
       "    </tr>\n",
       "    <tr>\n",
       "      <th>13</th>\n",
       "      <td>7617</td>\n",
       "      <td>C</td>\n",
       "    </tr>\n",
       "    <tr>\n",
       "      <th>14</th>\n",
       "      <td>5688</td>\n",
       "      <td>D</td>\n",
       "    </tr>\n",
       "    <tr>\n",
       "      <th>15</th>\n",
       "      <td>4800</td>\n",
       "      <td>A</td>\n",
       "    </tr>\n",
       "    <tr>\n",
       "      <th>16</th>\n",
       "      <td>4899</td>\n",
       "      <td>C</td>\n",
       "    </tr>\n",
       "    <tr>\n",
       "      <th>17</th>\n",
       "      <td>1522</td>\n",
       "      <td>C</td>\n",
       "    </tr>\n",
       "    <tr>\n",
       "      <th>18</th>\n",
       "      <td>6426</td>\n",
       "      <td>C</td>\n",
       "    </tr>\n",
       "    <tr>\n",
       "      <th>19</th>\n",
       "      <td>6055</td>\n",
       "      <td>B</td>\n",
       "    </tr>\n",
       "  </tbody>\n",
       "</table>\n",
       "</div>"
      ],
      "text/plain": [
       "      ID Segmentation\n",
       "0    755            B\n",
       "1   4670            D\n",
       "2    287            A\n",
       "3   1142            A\n",
       "4   6583            C\n",
       "5   2635            A\n",
       "6   5182            C\n",
       "7   2850            D\n",
       "8   6723            C\n",
       "9   8290            B\n",
       "10   505            A\n",
       "11  8695            D\n",
       "12  9841            B\n",
       "13  7617            C\n",
       "14  5688            D\n",
       "15  4800            A\n",
       "16  4899            C\n",
       "17  1522            C\n",
       "18  6426            C\n",
       "19  6055            B"
      ]
     },
     "execution_count": 48,
     "metadata": {},
     "output_type": "execute_result"
    }
   ],
   "source": [
    "submission = pd.DataFrame(clf2.predict(test))\n",
    "submission.columns = ['Segmentation']\n",
    "submission['ID'] = id\n",
    "submission = submission[['ID', 'Segmentation']]\n",
    "submission['Segmentation'] = submission['Segmentation'].map({0:'A', 1:'B', 2:'C', 3:'D'})\n",
    "submission.head(20)"
   ]
  },
  {
   "cell_type": "code",
   "execution_count": 49,
   "id": "52face54",
   "metadata": {},
   "outputs": [
    {
     "data": {
      "text/plain": [
       "D    1083\n",
       "A     965\n",
       "C     802\n",
       "B     680\n",
       "Name: Segmentation, dtype: int64"
      ]
     },
     "execution_count": 49,
     "metadata": {},
     "output_type": "execute_result"
    }
   ],
   "source": [
    "submission['Segmentation'].value_counts()"
   ]
  },
  {
   "cell_type": "code",
   "execution_count": 50,
   "id": "60abeabb",
   "metadata": {},
   "outputs": [],
   "source": [
    "submission.to_csv(\"segmentation2.csv\",index=False)"
   ]
  },
  {
   "cell_type": "markdown",
   "id": "a36fd301",
   "metadata": {},
   "source": [
    "## Grid Search"
   ]
  },
  {
   "cell_type": "code",
   "execution_count": 51,
   "id": "e0a909fc",
   "metadata": {},
   "outputs": [],
   "source": [
    "param_grid = {'kernel': ['rbf', 'poly', 'sigmoid']}"
   ]
  },
  {
   "cell_type": "code",
   "execution_count": 52,
   "id": "5f4c6894",
   "metadata": {},
   "outputs": [
    {
     "name": "stdout",
     "output_type": "stream",
     "text": [
      "Fitting 5 folds for each of 3 candidates, totalling 15 fits\n",
      "[CV 1/5] END ........................kernel=rbf;, score=0.463 total time=   1.2s\n",
      "[CV 2/5] END ........................kernel=rbf;, score=0.456 total time=   2.5s\n",
      "[CV 3/5] END ........................kernel=rbf;, score=0.466 total time=   1.8s\n",
      "[CV 4/5] END ........................kernel=rbf;, score=0.467 total time=   1.2s\n",
      "[CV 5/5] END ........................kernel=rbf;, score=0.462 total time=   2.4s\n",
      "[CV 1/5] END .......................kernel=poly;, score=0.446 total time=   1.4s\n",
      "[CV 2/5] END .......................kernel=poly;, score=0.459 total time=   0.8s\n",
      "[CV 3/5] END .......................kernel=poly;, score=0.469 total time=   0.8s\n",
      "[CV 4/5] END .......................kernel=poly;, score=0.458 total time=   1.9s\n",
      "[CV 5/5] END .......................kernel=poly;, score=0.462 total time=   1.6s\n",
      "[CV 1/5] END ....................kernel=sigmoid;, score=0.301 total time=   0.7s\n",
      "[CV 2/5] END ....................kernel=sigmoid;, score=0.378 total time=   0.7s\n",
      "[CV 3/5] END ....................kernel=sigmoid;, score=0.380 total time=   1.1s\n",
      "[CV 4/5] END ....................kernel=sigmoid;, score=0.316 total time=   1.7s\n",
      "[CV 5/5] END ....................kernel=sigmoid;, score=0.338 total time=   1.1s\n"
     ]
    },
    {
     "data": {
      "text/plain": [
       "GridSearchCV(estimator=SVC(), param_grid={'kernel': ['rbf', 'poly', 'sigmoid']},\n",
       "             verbose=3)"
      ]
     },
     "execution_count": 52,
     "metadata": {},
     "output_type": "execute_result"
    }
   ],
   "source": [
    "param_grid = {\n",
    "              'kernel': ['rbf', 'poly', 'sigmoid']}\n",
    " \n",
    "grid = GridSearchCV(svm.SVC(), param_grid, refit = True, verbose = 3)\n",
    " \n",
    "grid.fit(X_train, y_train)"
   ]
  },
  {
   "cell_type": "code",
   "execution_count": 53,
   "id": "f3a64b49",
   "metadata": {},
   "outputs": [
    {
     "data": {
      "text/plain": [
       "{'kernel': 'rbf'}"
      ]
     },
     "execution_count": 53,
     "metadata": {},
     "output_type": "execute_result"
    }
   ],
   "source": [
    "grid.best_params_"
   ]
  },
  {
   "cell_type": "markdown",
   "id": "09401cf4",
   "metadata": {},
   "source": [
    "## SVM"
   ]
  },
  {
   "cell_type": "code",
   "execution_count": 29,
   "id": "079600d6",
   "metadata": {},
   "outputs": [
    {
     "data": {
      "text/plain": [
       "SVC(C=1200, gamma=0.1)"
      ]
     },
     "execution_count": 29,
     "metadata": {},
     "output_type": "execute_result"
    }
   ],
   "source": [
    "clf2 = svm.SVC(decision_function_shape='ovr',kernel= 'rbf',C=1200,gamma=0.1)\n",
    "clf2.fit(X_train, y_train)"
   ]
  },
  {
   "cell_type": "code",
   "execution_count": 32,
   "id": "b0006d5f",
   "metadata": {},
   "outputs": [
    {
     "name": "stdout",
     "output_type": "stream",
     "text": [
      "52.09351011863224\n",
      "48.22051639916259\n"
     ]
    }
   ],
   "source": [
    "print(clf2.score(X_train, y_train)*100)\n",
    "print(clf2.score(X_test, y_test)*100)"
   ]
  },
  {
   "cell_type": "code",
   "execution_count": 33,
   "id": "8a7db139",
   "metadata": {},
   "outputs": [
    {
     "name": "stdout",
     "output_type": "stream",
     "text": [
      "1.7821004884856944\n",
      "1.7648290300069784\n"
     ]
    }
   ],
   "source": [
    "y_pred_train=clf2.predict(X_train)\n",
    "y_pred_test=clf2.predict(X_test)\n",
    "rms = mean_squared_error(y_pred_train, y_train)\n",
    "rms1 = mean_squared_error(y_pred_test, y_test)\n",
    "print(rms)\n",
    "print(rms1)"
   ]
  },
  {
   "cell_type": "code",
   "execution_count": 56,
   "id": "4593772d",
   "metadata": {},
   "outputs": [
    {
     "data": {
      "text/plain": [
       "array([[169,  71,  51,  86],\n",
       "       [ 92,  80,  95,  56],\n",
       "       [ 49,  65, 162,  51],\n",
       "       [ 87,  30,  22, 267]], dtype=int64)"
      ]
     },
     "execution_count": 56,
     "metadata": {},
     "output_type": "execute_result"
    }
   ],
   "source": [
    "y_pred = clf.predict(X_test)\n",
    "cm4 = confusion_matrix(y_test, y_pred)\n",
    "cm4"
   ]
  },
  {
   "cell_type": "code",
   "execution_count": 57,
   "id": "1e9035cc",
   "metadata": {},
   "outputs": [
    {
     "data": {
      "image/png": "[encoded data removed]",
      "text/plain": [
       "<Figure size 432x288 with 2 Axes>"
      ]
     },
     "metadata": {
      "needs_background": "light"
     },
     "output_type": "display_data"
    }
   ],
   "source": [
    "class_names = ['A','B','C','D']\n",
    "\n",
    "fig, ax = plot_confusion_matrix(conf_mat=cm4,colorbar=True,class_names=class_names)\n",
    "\n",
    "plt.title('Confusion Matrix')\n",
    "plt.xlabel('Predicted Values')\n",
    "plt.ylabel('Actual Values')\n",
    "plt.show()"
   ]
  },
  {
   "cell_type": "code",
   "execution_count": 58,
   "id": "dcc3adfb",
   "metadata": {},
   "outputs": [
    {
     "data": {
      "text/html": [
       "<div>\n",
       "<style scoped>\n",
       "    .dataframe tbody tr th:only-of-type {\n",
       "        vertical-align: middle;\n",
       "    }\n",
       "\n",
       "    .dataframe tbody tr th {\n",
       "        vertical-align: top;\n",
       "    }\n",
       "\n",
       "    .dataframe thead th {\n",
       "        text-align: right;\n",
       "    }\n",
       "</style>\n",
       "<table border=\"1\" class=\"dataframe\">\n",
       "  <thead>\n",
       "    <tr style=\"text-align: right;\">\n",
       "      <th></th>\n",
       "      <th>ID</th>\n",
       "      <th>Segmentation</th>\n",
       "    </tr>\n",
       "  </thead>\n",
       "  <tbody>\n",
       "    <tr>\n",
       "      <th>0</th>\n",
       "      <td>755</td>\n",
       "      <td>A</td>\n",
       "    </tr>\n",
       "    <tr>\n",
       "      <th>1</th>\n",
       "      <td>4670</td>\n",
       "      <td>D</td>\n",
       "    </tr>\n",
       "    <tr>\n",
       "      <th>2</th>\n",
       "      <td>287</td>\n",
       "      <td>A</td>\n",
       "    </tr>\n",
       "    <tr>\n",
       "      <th>3</th>\n",
       "      <td>1142</td>\n",
       "      <td>D</td>\n",
       "    </tr>\n",
       "    <tr>\n",
       "      <th>4</th>\n",
       "      <td>6583</td>\n",
       "      <td>D</td>\n",
       "    </tr>\n",
       "    <tr>\n",
       "      <th>5</th>\n",
       "      <td>2635</td>\n",
       "      <td>B</td>\n",
       "    </tr>\n",
       "    <tr>\n",
       "      <th>6</th>\n",
       "      <td>5182</td>\n",
       "      <td>C</td>\n",
       "    </tr>\n",
       "    <tr>\n",
       "      <th>7</th>\n",
       "      <td>2850</td>\n",
       "      <td>D</td>\n",
       "    </tr>\n",
       "    <tr>\n",
       "      <th>8</th>\n",
       "      <td>6723</td>\n",
       "      <td>C</td>\n",
       "    </tr>\n",
       "    <tr>\n",
       "      <th>9</th>\n",
       "      <td>8290</td>\n",
       "      <td>B</td>\n",
       "    </tr>\n",
       "    <tr>\n",
       "      <th>10</th>\n",
       "      <td>505</td>\n",
       "      <td>C</td>\n",
       "    </tr>\n",
       "    <tr>\n",
       "      <th>11</th>\n",
       "      <td>8695</td>\n",
       "      <td>D</td>\n",
       "    </tr>\n",
       "    <tr>\n",
       "      <th>12</th>\n",
       "      <td>9841</td>\n",
       "      <td>B</td>\n",
       "    </tr>\n",
       "    <tr>\n",
       "      <th>13</th>\n",
       "      <td>7617</td>\n",
       "      <td>C</td>\n",
       "    </tr>\n",
       "    <tr>\n",
       "      <th>14</th>\n",
       "      <td>5688</td>\n",
       "      <td>A</td>\n",
       "    </tr>\n",
       "    <tr>\n",
       "      <th>15</th>\n",
       "      <td>4800</td>\n",
       "      <td>A</td>\n",
       "    </tr>\n",
       "    <tr>\n",
       "      <th>16</th>\n",
       "      <td>4899</td>\n",
       "      <td>B</td>\n",
       "    </tr>\n",
       "    <tr>\n",
       "      <th>17</th>\n",
       "      <td>1522</td>\n",
       "      <td>C</td>\n",
       "    </tr>\n",
       "    <tr>\n",
       "      <th>18</th>\n",
       "      <td>6426</td>\n",
       "      <td>C</td>\n",
       "    </tr>\n",
       "    <tr>\n",
       "      <th>19</th>\n",
       "      <td>6055</td>\n",
       "      <td>A</td>\n",
       "    </tr>\n",
       "  </tbody>\n",
       "</table>\n",
       "</div>"
      ],
      "text/plain": [
       "      ID Segmentation\n",
       "0    755            A\n",
       "1   4670            D\n",
       "2    287            A\n",
       "3   1142            D\n",
       "4   6583            D\n",
       "5   2635            B\n",
       "6   5182            C\n",
       "7   2850            D\n",
       "8   6723            C\n",
       "9   8290            B\n",
       "10   505            C\n",
       "11  8695            D\n",
       "12  9841            B\n",
       "13  7617            C\n",
       "14  5688            A\n",
       "15  4800            A\n",
       "16  4899            B\n",
       "17  1522            C\n",
       "18  6426            C\n",
       "19  6055            A"
      ]
     },
     "execution_count": 58,
     "metadata": {},
     "output_type": "execute_result"
    }
   ],
   "source": [
    "submission = pd.DataFrame(clf.predict(test))\n",
    "submission.columns = ['Segmentation']\n",
    "submission['ID'] = id\n",
    "submission = submission[['ID', 'Segmentation']]\n",
    "submission['Segmentation'] = submission['Segmentation'].map({0:'A', 1:'B', 2:'C', 3:'D'})\n",
    "submission.head(20)"
   ]
  },
  {
   "cell_type": "code",
   "execution_count": 59,
   "id": "6f8d610b",
   "metadata": {},
   "outputs": [
    {
     "data": {
      "text/plain": [
       "D    1124\n",
       "A    1024\n",
       "C     823\n",
       "B     559\n",
       "Name: Segmentation, dtype: int64"
      ]
     },
     "execution_count": 59,
     "metadata": {},
     "output_type": "execute_result"
    }
   ],
   "source": [
    "submission['Segmentation'].value_counts()"
   ]
  },
  {
   "cell_type": "code",
   "execution_count": 60,
   "id": "570b49fb",
   "metadata": {},
   "outputs": [],
   "source": [
    "submission.to_csv(\"segmentation2.csv\",index=False)"
   ]
  },
  {
   "cell_type": "code",
   "execution_count": 46,
   "id": "2881c202",
   "metadata": {},
   "outputs": [],
   "source": [
    "dtc =  DecisionTreeClassifier()\n",
    "rfc = RandomForestClassifier()\n",
    "knn =  KNeighborsClassifier()\n",
    "xgb = xgboost.XGBClassifier()"
   ]
  },
  {
   "cell_type": "code",
   "execution_count": 47,
   "id": "439edc20",
   "metadata": {},
   "outputs": [
    {
     "name": "stdout",
     "output_type": "stream",
     "text": [
      "The accuracy score of DecisionTreeClassifier() is: 0.3627355198883461\n",
      "The accuracy score of RandomForestClassifier() is: 0.41632937892533145\n",
      "The accuracy score of KNeighborsClassifier() is: 0.41367759944173066\n",
      "The accuracy score of XGBClassifier(base_score=None, booster=None, callbacks=None,\n",
      "              colsample_bylevel=None, colsample_bynode=None,\n",
      "              colsample_bytree=None, early_stopping_rounds=None,\n",
      "              enable_categorical=False, eval_metric=None, gamma=None,\n",
      "              gpu_id=None, grow_policy=None, importance_type=None,\n",
      "              interaction_constraints=None, learning_rate=None, max_bin=None,\n",
      "              max_cat_to_onehot=None, max_delta_step=None, max_depth=None,\n",
      "              max_leaves=None, min_child_weight=None, missing=nan,\n",
      "              monotone_constraints=None, n_estimators=100, n_jobs=None,\n",
      "              num_parallel_tree=None, predictor=None, random_state=None,\n",
      "              reg_alpha=None, reg_lambda=None, ...) is: 0.4355896720167481\n"
     ]
    }
   ],
   "source": [
    "clf = [dtc,rfc,knn,xgb]\n",
    "for algo in clf:\n",
    "    score = cross_val_score( algo,x,target,cv = 5,scoring = 'accuracy')\n",
    "    print(\"The accuracy score of {} is:\".format(algo),score.mean())"
   ]
  },
  {
   "cell_type": "code",
   "execution_count": 48,
   "id": "e208dfbd",
   "metadata": {},
   "outputs": [
    {
     "name": "stdout",
     "output_type": "stream",
     "text": [
      "The accuracy score of is: 0.44508025122121425\n"
     ]
    }
   ],
   "source": [
    "rfc = RandomForestClassifier()\n",
    "xgb = xgboost.XGBClassifier()\n",
    "clf = [('dtc',dtc),('rfc',rfc),('knn',knn),('xgb',xgb)] #list of (str, estimator)\n",
    "from sklearn.ensemble import StackingClassifier\n",
    "lr = LogisticRegression()\n",
    "stack_model = StackingClassifier( estimators = clf,final_estimator = lr)\n",
    "score = cross_val_score(stack_model,x,target,cv = 5,scoring = 'accuracy')\n",
    "print(\"The accuracy score of is:\",score.mean())"
   ]
  },
  {
   "cell_type": "code",
   "execution_count": 49,
   "id": "c9b04f2f",
   "metadata": {},
   "outputs": [
    {
     "data": {
      "text/plain": [
       "StackingClassifier(estimators=[('dtc', DecisionTreeClassifier()),\n",
       "                               ('rfc', RandomForestClassifier()),\n",
       "                               ('knn', KNeighborsClassifier()),\n",
       "                               ('xgb',\n",
       "                                XGBClassifier(base_score=None, booster=None,\n",
       "                                              callbacks=None,\n",
       "                                              colsample_bylevel=None,\n",
       "                                              colsample_bynode=None,\n",
       "                                              colsample_bytree=None,\n",
       "                                              early_stopping_rounds=None,\n",
       "                                              enable_categorical=False,\n",
       "                                              eval_metric=None, gamma=None,\n",
       "                                              gpu_id=Non...\n",
       "                                              interaction_constraints=None,\n",
       "                                              learning_rate=None, max_bin=None,\n",
       "                                              max_cat_to_onehot=None,\n",
       "                                              max_delta_step=None,\n",
       "                                              max_depth=None, max_leaves=None,\n",
       "                                              min_child_weight=None,\n",
       "                                              missing=nan,\n",
       "                                              monotone_constraints=None,\n",
       "                                              n_estimators=100, n_jobs=None,\n",
       "                                              num_parallel_tree=None,\n",
       "                                              predictor=None, random_state=None,\n",
       "                                              reg_alpha=None, reg_lambda=None, ...))],\n",
       "                   final_estimator=LogisticRegression())"
      ]
     },
     "execution_count": 49,
     "metadata": {},
     "output_type": "execute_result"
    }
   ],
   "source": [
    "stack_model.fit(x, target)   # training of stacked model\n"
   ]
  },
  {
   "cell_type": "code",
   "execution_count": 50,
   "id": "2d16eb97",
   "metadata": {},
   "outputs": [
    {
     "name": "stdout",
     "output_type": "stream",
     "text": [
      "67.84717376133985\n",
      "68.52756454989533\n"
     ]
    }
   ],
   "source": [
    "print(stack_model.score(X_train, y_train)*100)\n",
    "print(stack_model.score(X_test, y_test)*100)"
   ]
  },
  {
   "cell_type": "code",
   "execution_count": 51,
   "id": "928ddd76",
   "metadata": {},
   "outputs": [
    {
     "name": "stdout",
     "output_type": "stream",
     "text": [
      "0.8299023028611305\n",
      "0.7515701325889742\n"
     ]
    }
   ],
   "source": [
    "y_pred_train=stack_model.predict(X_train)\n",
    "y_pred_test=stack_model.predict(X_test)\n",
    "rms = mean_squared_error(y_pred_train, y_train)\n",
    "rms1 = mean_squared_error(y_pred_test, y_test)\n",
    "print(rms)\n",
    "print(rms1)"
   ]
  },
  {
   "cell_type": "code",
   "execution_count": 68,
   "id": "225b604f",
   "metadata": {},
   "outputs": [
    {
     "data": {
      "text/html": [
       "<div>\n",
       "<style scoped>\n",
       "    .dataframe tbody tr th:only-of-type {\n",
       "        vertical-align: middle;\n",
       "    }\n",
       "\n",
       "    .dataframe tbody tr th {\n",
       "        vertical-align: top;\n",
       "    }\n",
       "\n",
       "    .dataframe thead th {\n",
       "        text-align: right;\n",
       "    }\n",
       "</style>\n",
       "<table border=\"1\" class=\"dataframe\">\n",
       "  <thead>\n",
       "    <tr style=\"text-align: right;\">\n",
       "      <th></th>\n",
       "      <th>ID</th>\n",
       "      <th>Segmentation</th>\n",
       "    </tr>\n",
       "  </thead>\n",
       "  <tbody>\n",
       "    <tr>\n",
       "      <th>0</th>\n",
       "      <td>755</td>\n",
       "      <td>A</td>\n",
       "    </tr>\n",
       "    <tr>\n",
       "      <th>1</th>\n",
       "      <td>4670</td>\n",
       "      <td>D</td>\n",
       "    </tr>\n",
       "    <tr>\n",
       "      <th>2</th>\n",
       "      <td>287</td>\n",
       "      <td>A</td>\n",
       "    </tr>\n",
       "    <tr>\n",
       "      <th>3</th>\n",
       "      <td>1142</td>\n",
       "      <td>D</td>\n",
       "    </tr>\n",
       "    <tr>\n",
       "      <th>4</th>\n",
       "      <td>6583</td>\n",
       "      <td>A</td>\n",
       "    </tr>\n",
       "    <tr>\n",
       "      <th>5</th>\n",
       "      <td>2635</td>\n",
       "      <td>B</td>\n",
       "    </tr>\n",
       "    <tr>\n",
       "      <th>6</th>\n",
       "      <td>5182</td>\n",
       "      <td>B</td>\n",
       "    </tr>\n",
       "    <tr>\n",
       "      <th>7</th>\n",
       "      <td>2850</td>\n",
       "      <td>D</td>\n",
       "    </tr>\n",
       "    <tr>\n",
       "      <th>8</th>\n",
       "      <td>6723</td>\n",
       "      <td>A</td>\n",
       "    </tr>\n",
       "    <tr>\n",
       "      <th>9</th>\n",
       "      <td>8290</td>\n",
       "      <td>A</td>\n",
       "    </tr>\n",
       "    <tr>\n",
       "      <th>10</th>\n",
       "      <td>505</td>\n",
       "      <td>B</td>\n",
       "    </tr>\n",
       "    <tr>\n",
       "      <th>11</th>\n",
       "      <td>8695</td>\n",
       "      <td>D</td>\n",
       "    </tr>\n",
       "    <tr>\n",
       "      <th>12</th>\n",
       "      <td>9841</td>\n",
       "      <td>A</td>\n",
       "    </tr>\n",
       "    <tr>\n",
       "      <th>13</th>\n",
       "      <td>7617</td>\n",
       "      <td>C</td>\n",
       "    </tr>\n",
       "    <tr>\n",
       "      <th>14</th>\n",
       "      <td>5688</td>\n",
       "      <td>D</td>\n",
       "    </tr>\n",
       "    <tr>\n",
       "      <th>15</th>\n",
       "      <td>4800</td>\n",
       "      <td>A</td>\n",
       "    </tr>\n",
       "    <tr>\n",
       "      <th>16</th>\n",
       "      <td>4899</td>\n",
       "      <td>B</td>\n",
       "    </tr>\n",
       "    <tr>\n",
       "      <th>17</th>\n",
       "      <td>1522</td>\n",
       "      <td>C</td>\n",
       "    </tr>\n",
       "    <tr>\n",
       "      <th>18</th>\n",
       "      <td>6426</td>\n",
       "      <td>C</td>\n",
       "    </tr>\n",
       "    <tr>\n",
       "      <th>19</th>\n",
       "      <td>6055</td>\n",
       "      <td>A</td>\n",
       "    </tr>\n",
       "  </tbody>\n",
       "</table>\n",
       "</div>"
      ],
      "text/plain": [
       "      ID Segmentation\n",
       "0    755            A\n",
       "1   4670            D\n",
       "2    287            A\n",
       "3   1142            D\n",
       "4   6583            A\n",
       "5   2635            B\n",
       "6   5182            B\n",
       "7   2850            D\n",
       "8   6723            A\n",
       "9   8290            A\n",
       "10   505            B\n",
       "11  8695            D\n",
       "12  9841            A\n",
       "13  7617            C\n",
       "14  5688            D\n",
       "15  4800            A\n",
       "16  4899            B\n",
       "17  1522            C\n",
       "18  6426            C\n",
       "19  6055            A"
      ]
     },
     "execution_count": 68,
     "metadata": {},
     "output_type": "execute_result"
    }
   ],
   "source": [
    "submission = pd.DataFrame(stack_model.predict(test))\n",
    "submission.columns = ['Segmentation']\n",
    "submission['ID'] = id\n",
    "submission = submission[['ID', 'Segmentation']]\n",
    "submission['Segmentation'] = submission['Segmentation'].map({0:'A', 1:'B', 2:'C', 3:'D'})\n",
    "submission.head(20)"
   ]
  },
  {
   "cell_type": "code",
   "execution_count": 69,
   "id": "810a78d6",
   "metadata": {},
   "outputs": [],
   "source": [
    "submission.to_csv(\"segmentation2.csv\",index=False)"
   ]
  },
  {
   "cell_type": "code",
   "execution_count": 52,
   "id": "83ad66cf",
   "metadata": {},
   "outputs": [
    {
     "name": "stdout",
     "output_type": "stream",
     "text": [
      "59.473133286810885\n",
      "41.939986043265876\n"
     ]
    }
   ],
   "source": [
    "from sklearn.neighbors import KNeighborsClassifier\n",
    "from sklearn.metrics import confusion_matrix, classification_report\n",
    "neigh = KNeighborsClassifier()\n",
    "neigh.fit(X_train, y_train)\n",
    "pred = neigh.predict(X_test)\n",
    "y_pred_train=neigh.predict(X_train)\n",
    "y_pred_test=neigh.predict(X_test)\n",
    "\n",
    "print(neigh.score(X_train, y_train)*100)\n",
    "print(neigh.score(X_test, y_test)*100)\n"
   ]
  },
  {
   "cell_type": "code",
   "execution_count": 53,
   "id": "c11e0e3b",
   "metadata": {},
   "outputs": [
    {
     "name": "stdout",
     "output_type": "stream",
     "text": [
      "1.4345778087927425\n",
      "2.0565247732030705\n"
     ]
    }
   ],
   "source": [
    "y_pred_train=neigh.predict(X_train)\n",
    "y_pred_test=neigh.predict(X_test)\n",
    "rms = mean_squared_error(y_pred_train, y_train)\n",
    "rms1 = mean_squared_error(y_pred_test, y_test)\n",
    "print(rms)\n",
    "print(rms1)"
   ]
  },
  {
   "cell_type": "code",
   "execution_count": 56,
   "id": "885d0dee",
   "metadata": {},
   "outputs": [
    {
     "name": "stdout",
     "output_type": "stream",
     "text": [
      "45.83042568039079\n",
      "46.545708304256806\n"
     ]
    }
   ],
   "source": [
    "log=LogisticRegression()\n",
    "log.fit(X_train,y_train)\n",
    "print(log.score(X_train, y_train)*100)\n",
    "print(log.score(X_test, y_test)*100)\n"
   ]
  },
  {
   "cell_type": "code",
   "execution_count": 57,
   "id": "c747e79f",
   "metadata": {},
   "outputs": [
    {
     "name": "stdout",
     "output_type": "stream",
     "text": [
      "2.1017096999302165\n",
      "1.9846475924633635\n"
     ]
    }
   ],
   "source": [
    "y_pred_train=log.predict(X_train)\n",
    "y_pred_test=log.predict(X_test)\n",
    "rms = mean_squared_error(y_pred_train, y_train)\n",
    "rms1 = mean_squared_error(y_pred_test, y_test)\n",
    "print(rms)\n",
    "print(rms1)"
   ]
  },
  {
   "cell_type": "code",
   "execution_count": 59,
   "id": "4b1e12ca",
   "metadata": {},
   "outputs": [
    {
     "name": "stdout",
     "output_type": "stream",
     "text": [
      "95.56873691556176\n",
      "38.032100488485696\n"
     ]
    }
   ],
   "source": [
    "dt=DecisionTreeClassifier()\n",
    "dt.fit(X_train,y_train)\n",
    "print(dt.score(X_train, y_train)*100)\n",
    "print(dt.score(X_test, y_test)*100)\n"
   ]
  },
  {
   "cell_type": "code",
   "execution_count": 60,
   "id": "88f7436d",
   "metadata": {},
   "outputs": [
    {
     "name": "stdout",
     "output_type": "stream",
     "text": [
      "0.12718073970690857\n",
      "2.1444521981856246\n"
     ]
    }
   ],
   "source": [
    "y_pred_train=dt.predict(X_train)\n",
    "y_pred_test=dt.predict(X_test)\n",
    "rms = mean_squared_error(y_pred_train, y_train)\n",
    "rms1 = mean_squared_error(y_pred_test, y_test)\n",
    "print(rms)\n",
    "print(rms1)"
   ]
  },
  {
   "cell_type": "code",
   "execution_count": null,
   "id": "0b14a2d5",
   "metadata": {},
   "outputs": [],
   "source": []
  }
 ],
 "metadata": {
  "kernelspec": {
   "display_name": "Python 3",
   "language": "python",
   "name": "python3"
  },
  "language_info": {
   "codemirror_mode": {
    "name": "ipython",
    "version": 3
   },
   "file_extension": ".py",
   "mimetype": "text/x-python",
   "name": "python",
   "nbconvert_exporter": "python",
   "pygments_lexer": "ipython3",
   "version": "3.8.8"
  }
 },
 "nbformat": 4,
 "nbformat_minor": 5
}
